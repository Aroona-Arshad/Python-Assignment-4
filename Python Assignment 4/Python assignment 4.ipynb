{
 "cells": [
  {
   "cell_type": "code",
   "execution_count": 1,
   "id": "3eeac8f7",
   "metadata": {},
   "outputs": [
    {
     "name": "stdout",
     "output_type": "stream",
     "text": [
      "Enter first number34\n",
      "Enter second number678\n",
      "Give any operator(*,/,+,-)*\n",
      "23052\n"
     ]
    }
   ],
   "source": [
    "num_1 = int(input(\"Enter first number\"))\n",
    "num_2 = int(input(\"Enter second number\"))\n",
    "op = input(\"Give any operator(*,/,+,-)\")\n",
    "\n",
    "\n",
    "if op == '*':\n",
    "    num = num_1 * num_2\n",
    "    print(num)\n",
    "    \n",
    "elif op == '/':\n",
    "    num = num_1 - num_2\n",
    "    print(num)\n",
    "\n",
    "elif op == '+':\n",
    "    num = num_1 - num_2\n",
    "    print(num)\n",
    "    \n",
    "elif op == '-':\n",
    "    num = num_1 - num_2\n",
    "    print(num) \n",
    "\n",
    "else :\n",
    "    print(\"Enter right operator\")"
   ]
  },
  {
   "cell_type": "code",
   "execution_count": 2,
   "id": "a92b7982",
   "metadata": {},
   "outputs": [
    {
     "name": "stdout",
     "output_type": "stream",
     "text": [
      "90\n",
      "35\n"
     ]
    }
   ],
   "source": [
    "d = [90, \"abc\", \"def\", 35,\"moon\", \"sun\"] \n",
    "for i in d: \n",
    "    if type(i) == int: \n",
    "        print(i)"
   ]
  },
  {
   "cell_type": "code",
   "execution_count": 4,
   "id": "b10e930f",
   "metadata": {},
   "outputs": [
    {
     "name": "stdout",
     "output_type": "stream",
     "text": [
      "{1: 'lahore', 2: {1: 'Islamabad', 2: 'Karachi', 3: 'Hyderabad', 4: 'Faisalbad'}}\n"
     ]
    }
   ],
   "source": [
    "cities = {1: 'lahore', 2: {1: 'Islamabad', 2: 'Karachi', 3: 'Hyderabad'} }\n",
    "\n",
    "cities[2][4] = 'Faisalbad'\n",
    "print(cities)"
   ]
  },
  {
   "cell_type": "code",
   "execution_count": 7,
   "id": "50c6e13e",
   "metadata": {},
   "outputs": [
    {
     "name": "stdout",
     "output_type": "stream",
     "text": [
      "151\n"
     ]
    }
   ],
   "source": [
    "f = {'a': 56, 'b': 95}\n",
    "print(sum(f.values()))"
   ]
  },
  {
   "cell_type": "code",
   "execution_count": 9,
   "id": "e4ce834b",
   "metadata": {},
   "outputs": [
    {
     "name": "stdout",
     "output_type": "stream",
     "text": [
      "90\n",
      "345\n"
     ]
    }
   ],
   "source": [
    "lst_1 = [345, 78, 90, 67, 90, 345, 21]\n",
    "lst_2 = []\n",
    "\n",
    "for i in lst_1 :\n",
    "    if i not in lst_2 :\n",
    "        lst_2.append(i)\n",
    "        \n",
    "    else :\n",
    "        print(i)\n",
    "    "
   ]
  },
  {
   "cell_type": "code",
   "execution_count": 8,
   "id": "68140173",
   "metadata": {},
   "outputs": [
    {
     "name": "stdout",
     "output_type": "stream",
     "text": [
      "Key is in dictionary\n"
     ]
    }
   ],
   "source": [
    "count = {1: 'maria', 2:'45', 3:'pakistan', 3:'nepal', 4:'oman'}\n",
    " \n",
    "if count.get(1) :\n",
    "    print(\"Key is in dictionary\")\n",
    "else:\n",
    "    print(\"key is not in dictionary\")"
   ]
  },
  {
   "cell_type": "code",
   "execution_count": null,
   "id": "9ae3ae1a",
   "metadata": {},
   "outputs": [],
   "source": []
  }
 ],
 "metadata": {
  "kernelspec": {
   "display_name": "Python 3",
   "language": "python",
   "name": "python3"
  },
  "language_info": {
   "codemirror_mode": {
    "name": "ipython",
    "version": 3
   },
   "file_extension": ".py",
   "mimetype": "text/x-python",
   "name": "python",
   "nbconvert_exporter": "python",
   "pygments_lexer": "ipython3",
   "version": "3.8.8"
  }
 },
 "nbformat": 4,
 "nbformat_minor": 5
}
